{
 "cells": [
  {
   "cell_type": "code",
   "execution_count": 4,
   "id": "04ad6872-3ad7-4fac-8548-09e8f81e3dde",
   "metadata": {
    "tags": []
   },
   "outputs": [],
   "source": [
    "from scipy.io import loadmat\n",
    "import matplotlib.pyplot as plt\n",
    "from sklearn import preprocessing\n",
    "import pandas as pd\n",
    "import numpy as np\n",
    "from keras.models import Sequential\n",
    "from keras.layers import Conv2D, MaxPool2D, BatchNormalization\n",
    "from keras.layers import Dense, Flatten, Dropout\n",
    "from sklearn import preprocessing\n",
    "import tensorflow as tf"
   ]
  },
  {
   "cell_type": "code",
   "execution_count": 5,
   "id": "8c6c38d7-2c63-44fd-934d-d991528f42a5",
   "metadata": {},
   "outputs": [],
   "source": [
    "Data = loadmat('./v5.mat')\n",
    "testData = loadmat('./testing_v5.mat')"
   ]
  },
  {
   "cell_type": "code",
   "execution_count": 6,
   "id": "7b33d5c3-ec83-4c27-8df3-6b62513938eb",
   "metadata": {},
   "outputs": [],
   "source": [
    "parm_mat = Data['parm_mat']\n",
    "Ex = Data['Wav_mat']\n",
    "testEx = testData['Wav_mat']"
   ]
  },
  {
   "cell_type": "code",
   "execution_count": 7,
   "id": "5e7f10b9-0d8d-4802-b502-141973e49a17",
   "metadata": {},
   "outputs": [
    {
     "data": {
      "text/plain": [
       "(22320, 69, 129)"
      ]
     },
     "execution_count": 7,
     "metadata": {},
     "output_type": "execute_result"
    }
   ],
   "source": [
    "Input = [Ex[i][0] for i in range(Ex.shape[0] - 1)]\n",
    "Input = np.array(Input)\n",
    "Input.shape"
   ]
  },
  {
   "cell_type": "code",
   "execution_count": 8,
   "id": "0dcacb2e-0c8a-4908-a27f-bc6f854f34db",
   "metadata": {},
   "outputs": [
    {
     "data": {
      "text/plain": [
       "array([[2.4 , 1.2 ],\n",
       "       [2.4 , 1.19],\n",
       "       [2.4 , 1.18],\n",
       "       ...,\n",
       "       [0.2 , 0.22],\n",
       "       [0.2 , 0.21],\n",
       "       [0.2 , 0.2 ]])"
      ]
     },
     "execution_count": 8,
     "metadata": {},
     "output_type": "execute_result"
    }
   ],
   "source": [
    "Output = parm_mat\n",
    "n_sample = len(Input)\n",
    "Output"
   ]
  },
  {
   "cell_type": "code",
   "execution_count": 9,
   "id": "68f58ea1-60cf-4fc2-83c3-1f959a0e611d",
   "metadata": {},
   "outputs": [],
   "source": [
    "testInput = [testEx[i][0] for i in range(testEx.shape[0])]\n",
    "testInput = np.array(testInput)"
   ]
  },
  {
   "cell_type": "code",
   "execution_count": 10,
   "id": "e3e3db6f-ea18-4576-a44e-d988825dd0d0",
   "metadata": {
    "tags": []
   },
   "outputs": [],
   "source": [
    "min_max_scaler = preprocessing.MinMaxScaler()  # normalization\n",
    "Output_scale = min_max_scaler.fit_transform(Output)"
   ]
  },
  {
   "cell_type": "code",
   "execution_count": 11,
   "id": "2f7b1cb1-d039-4285-89e5-98d89760cab3",
   "metadata": {
    "tags": []
   },
   "outputs": [],
   "source": [
    "index = np.arange(n_sample)\n",
    "np.random.seed(1)\n",
    "np.random.shuffle(index)"
   ]
  },
  {
   "cell_type": "code",
   "execution_count": 12,
   "id": "6aadf6e7-991b-45b3-a06e-c6a2133e83cb",
   "metadata": {
    "tags": []
   },
   "outputs": [
    {
     "data": {
      "text/plain": [
       "(15623, 69, 129)"
      ]
     },
     "execution_count": 12,
     "metadata": {},
     "output_type": "execute_result"
    }
   ],
   "source": [
    "train_ratio = 0.7\n",
    "x_train = Input[index[:int(0.7*n_sample)]]\n",
    "x_test = Input[index[int(0.7*n_sample):]]\n",
    "y_train = Output[index[:int(0.7*n_sample)]]\n",
    "y_test = Output[index[int(0.7*n_sample):]]\n",
    "x_train.shape"
   ]
  },
  {
   "cell_type": "code",
   "execution_count": 13,
   "id": "bc41a16d-3aeb-4bf7-97e1-5b72a8313fa3",
   "metadata": {},
   "outputs": [
    {
     "name": "stdout",
     "output_type": "stream",
     "text": [
      "(15623, 69, 129, 1)\n"
     ]
    }
   ],
   "source": [
    "img_x, img_y = 69, 129\n",
    "x_train = x_train.reshape(x_train.shape[0], img_x, img_y, 1)\n",
    "print(x_train.shape)\n",
    "x_test = x_test.reshape(x_test.shape[0], img_x, img_y, 1)"
   ]
  },
  {
   "cell_type": "code",
   "execution_count": 21,
   "id": "f703570e-01e4-47fb-a160-758338178e24",
   "metadata": {
    "tags": []
   },
   "outputs": [],
   "source": [
    "model = Sequential()\n",
    "model.add(Conv2D(32, kernel_size=(3, 3), activation='relu', input_shape=(img_x, img_y, 1)))\n",
    "model.add(MaxPool2D(pool_size=(2, 2), strides=(2, 2)))\n",
    "model.add(Conv2D(64, kernel_size=(3, 3), activation='relu'))\n",
    "model.add(MaxPool2D(pool_size=(2, 2), strides=(2, 2)))\n",
    "model.add(Flatten())\n",
    "model.add(Dense(1000, activation='relu'))\n",
    "model.add(Dense(2, activation='relu'))"
   ]
  },
  {
   "cell_type": "code",
   "execution_count": 22,
   "id": "d22ff31f-56ea-4f52-a6c2-9dbb35e75a97",
   "metadata": {
    "tags": []
   },
   "outputs": [],
   "source": [
    "# adam = tf.keras.optimizers.Adam(learning_rate=0.0001, beta_1=0.9, beta_2=0.009, epsilon=None, amsgrad=False)\n",
    "model.compile(optimizer='Adam', loss='mse', metrics=['cosine_similarity'])"
   ]
  },
  {
   "cell_type": "code",
   "execution_count": 23,
   "id": "6baf04a3-87af-4473-88e5-6adecdd27796",
   "metadata": {
    "tags": []
   },
   "outputs": [
    {
     "name": "stdout",
     "output_type": "stream",
     "text": [
      "Epoch 1/90\n"
     ]
    },
    {
     "name": "stderr",
     "output_type": "stream",
     "text": [
      "2022-07-13 22:09:35.855864: I tensorflow/core/grappler/optimizers/custom_graph_optimizer_registry.cc:113] Plugin optimizer for device_type GPU is enabled.\n"
     ]
    },
    {
     "name": "stdout",
     "output_type": "stream",
     "text": [
      "249/250 [============================>.] - ETA: 0s - loss: 0.0215 - cosine_similarity: 0.9895"
     ]
    },
    {
     "name": "stderr",
     "output_type": "stream",
     "text": [
      "2022-07-13 22:09:44.412949: I tensorflow/core/grappler/optimizers/custom_graph_optimizer_registry.cc:113] Plugin optimizer for device_type GPU is enabled.\n"
     ]
    },
    {
     "name": "stdout",
     "output_type": "stream",
     "text": [
      "250/250 [==============================] - 9s 36ms/step - loss: 0.0214 - cosine_similarity: 0.9895 - val_loss: 0.0013 - val_cosine_similarity: 0.9995\n",
      "Epoch 2/90\n",
      "250/250 [==============================] - 9s 36ms/step - loss: 9.4814e-04 - cosine_similarity: 0.9996 - val_loss: 5.1782e-04 - val_cosine_similarity: 0.9997\n",
      "Epoch 3/90\n",
      "250/250 [==============================] - 9s 36ms/step - loss: 4.8351e-04 - cosine_similarity: 0.9997 - val_loss: 2.5998e-04 - val_cosine_similarity: 0.9997\n",
      "Epoch 4/90\n",
      "250/250 [==============================] - 9s 36ms/step - loss: 3.1819e-04 - cosine_similarity: 0.9998 - val_loss: 2.0415e-04 - val_cosine_similarity: 0.9997\n",
      "Epoch 5/90\n",
      "250/250 [==============================] - 9s 36ms/step - loss: 2.8047e-04 - cosine_similarity: 0.9998 - val_loss: 1.7487e-04 - val_cosine_similarity: 0.9998\n",
      "Epoch 6/90\n",
      "250/250 [==============================] - 9s 36ms/step - loss: 2.6255e-04 - cosine_similarity: 0.9998 - val_loss: 2.3464e-04 - val_cosine_similarity: 0.9999\n",
      "Epoch 7/90\n",
      "250/250 [==============================] - 9s 36ms/step - loss: 2.8660e-04 - cosine_similarity: 0.9998 - val_loss: 1.4618e-04 - val_cosine_similarity: 0.9999\n",
      "Epoch 8/90\n",
      "250/250 [==============================] - 9s 37ms/step - loss: 3.7684e-04 - cosine_similarity: 0.9999 - val_loss: 2.0180e-04 - val_cosine_similarity: 0.9999\n",
      "Epoch 9/90\n",
      "250/250 [==============================] - 9s 36ms/step - loss: 2.8748e-04 - cosine_similarity: 0.9999 - val_loss: 2.9126e-04 - val_cosine_similarity: 0.9997\n",
      "Epoch 10/90\n",
      "250/250 [==============================] - 9s 36ms/step - loss: 3.3879e-04 - cosine_similarity: 0.9998 - val_loss: 9.7915e-05 - val_cosine_similarity: 0.9999\n",
      "Epoch 11/90\n",
      "250/250 [==============================] - 9s 37ms/step - loss: 2.2071e-04 - cosine_similarity: 0.9999 - val_loss: 1.2223e-04 - val_cosine_similarity: 0.9999\n",
      "Epoch 12/90\n",
      "250/250 [==============================] - 9s 36ms/step - loss: 2.2630e-04 - cosine_similarity: 0.9999 - val_loss: 2.4934e-04 - val_cosine_similarity: 0.9999\n",
      "Epoch 13/90\n",
      "250/250 [==============================] - 9s 37ms/step - loss: 2.2793e-04 - cosine_similarity: 0.9999 - val_loss: 9.3250e-05 - val_cosine_similarity: 0.9999\n",
      "Epoch 14/90\n",
      "250/250 [==============================] - 9s 36ms/step - loss: 2.2833e-04 - cosine_similarity: 0.9999 - val_loss: 9.3038e-04 - val_cosine_similarity: 0.9998\n",
      "Epoch 15/90\n",
      "250/250 [==============================] - 9s 36ms/step - loss: 2.2895e-04 - cosine_similarity: 0.9998 - val_loss: 1.5625e-04 - val_cosine_similarity: 0.9999\n",
      "Epoch 16/90\n",
      "250/250 [==============================] - 9s 36ms/step - loss: 2.4764e-04 - cosine_similarity: 0.9999 - val_loss: 6.6646e-04 - val_cosine_similarity: 0.9999\n",
      "Epoch 17/90\n",
      "250/250 [==============================] - 9s 36ms/step - loss: 1.7954e-04 - cosine_similarity: 0.9999 - val_loss: 1.9327e-04 - val_cosine_similarity: 0.9999\n",
      "Epoch 18/90\n",
      "250/250 [==============================] - 9s 35ms/step - loss: 0.0011 - cosine_similarity: 0.9998 - val_loss: 2.1228e-04 - val_cosine_similarity: 0.9999\n",
      "Epoch 19/90\n",
      "250/250 [==============================] - 9s 36ms/step - loss: 2.4478e-04 - cosine_similarity: 0.9999 - val_loss: 1.0446e-04 - val_cosine_similarity: 1.0000\n",
      "Epoch 20/90\n",
      "250/250 [==============================] - 9s 35ms/step - loss: 1.4703e-04 - cosine_similarity: 0.9999 - val_loss: 1.0159e-04 - val_cosine_similarity: 0.9999\n",
      "Epoch 21/90\n",
      "250/250 [==============================] - 9s 36ms/step - loss: 1.3208e-04 - cosine_similarity: 0.9999 - val_loss: 1.1100e-04 - val_cosine_similarity: 1.0000\n",
      "Epoch 22/90\n",
      "250/250 [==============================] - 9s 36ms/step - loss: 1.5141e-04 - cosine_similarity: 0.9999 - val_loss: 1.9083e-04 - val_cosine_similarity: 1.0000\n",
      "Epoch 23/90\n",
      "250/250 [==============================] - 9s 36ms/step - loss: 1.3720e-04 - cosine_similarity: 0.9999 - val_loss: 1.3077e-04 - val_cosine_similarity: 1.0000\n",
      "Epoch 24/90\n",
      "250/250 [==============================] - 9s 36ms/step - loss: 1.2793e-04 - cosine_similarity: 0.9999 - val_loss: 1.4781e-04 - val_cosine_similarity: 1.0000\n",
      "Epoch 25/90\n",
      "250/250 [==============================] - 9s 36ms/step - loss: 1.4104e-04 - cosine_similarity: 0.9999 - val_loss: 9.4284e-05 - val_cosine_similarity: 1.0000\n",
      "Epoch 26/90\n",
      "250/250 [==============================] - 9s 36ms/step - loss: 1.8603e-04 - cosine_similarity: 0.9999 - val_loss: 8.1612e-05 - val_cosine_similarity: 0.9999\n",
      "Epoch 27/90\n",
      "250/250 [==============================] - 9s 36ms/step - loss: 1.0511e-04 - cosine_similarity: 0.9999 - val_loss: 7.0920e-05 - val_cosine_similarity: 1.0000\n",
      "Epoch 28/90\n",
      "250/250 [==============================] - 9s 36ms/step - loss: 8.1720e-04 - cosine_similarity: 0.9999 - val_loss: 1.3358e-04 - val_cosine_similarity: 0.9999\n",
      "Epoch 29/90\n",
      "250/250 [==============================] - 9s 37ms/step - loss: 1.1693e-04 - cosine_similarity: 0.9999 - val_loss: 7.5373e-05 - val_cosine_similarity: 1.0000\n",
      "Epoch 30/90\n",
      "250/250 [==============================] - 9s 36ms/step - loss: 8.0921e-05 - cosine_similarity: 1.0000 - val_loss: 4.9302e-05 - val_cosine_similarity: 1.0000\n",
      "Epoch 31/90\n",
      "250/250 [==============================] - 9s 36ms/step - loss: 1.0359e-04 - cosine_similarity: 1.0000 - val_loss: 1.4701e-04 - val_cosine_similarity: 1.0000\n",
      "Epoch 32/90\n",
      "250/250 [==============================] - 9s 36ms/step - loss: 1.4943e-04 - cosine_similarity: 1.0000 - val_loss: 1.1855e-04 - val_cosine_similarity: 0.9999\n",
      "Epoch 33/90\n",
      "250/250 [==============================] - 9s 36ms/step - loss: 1.1528e-04 - cosine_similarity: 1.0000 - val_loss: 1.1134e-04 - val_cosine_similarity: 0.9999\n",
      "Epoch 34/90\n",
      "250/250 [==============================] - 9s 36ms/step - loss: 7.1749e-05 - cosine_similarity: 1.0000 - val_loss: 8.8059e-05 - val_cosine_similarity: 1.0000\n",
      "Epoch 35/90\n",
      "250/250 [==============================] - 9s 36ms/step - loss: 8.5020e-05 - cosine_similarity: 1.0000 - val_loss: 1.8362e-04 - val_cosine_similarity: 1.0000\n",
      "Epoch 36/90\n",
      "250/250 [==============================] - 9s 36ms/step - loss: 8.7186e-05 - cosine_similarity: 1.0000 - val_loss: 1.3908e-04 - val_cosine_similarity: 1.0000\n",
      "Epoch 37/90\n",
      "250/250 [==============================] - 9s 37ms/step - loss: 1.3849e-04 - cosine_similarity: 1.0000 - val_loss: 1.8071e-04 - val_cosine_similarity: 1.0000\n",
      "Epoch 38/90\n",
      "250/250 [==============================] - 9s 37ms/step - loss: 9.3491e-05 - cosine_similarity: 1.0000 - val_loss: 1.0036e-04 - val_cosine_similarity: 1.0000\n",
      "Epoch 39/90\n",
      "250/250 [==============================] - 10s 38ms/step - loss: 9.3583e-05 - cosine_similarity: 1.0000 - val_loss: 5.9835e-05 - val_cosine_similarity: 1.0000\n",
      "Epoch 40/90\n",
      "250/250 [==============================] - 10s 38ms/step - loss: 1.4672e-04 - cosine_similarity: 1.0000 - val_loss: 1.2306e-04 - val_cosine_similarity: 1.0000\n",
      "Epoch 41/90\n",
      "250/250 [==============================] - 10s 39ms/step - loss: 9.3237e-05 - cosine_similarity: 1.0000 - val_loss: 4.6153e-05 - val_cosine_similarity: 1.0000\n",
      "Epoch 42/90\n",
      "250/250 [==============================] - 9s 37ms/step - loss: 7.8874e-05 - cosine_similarity: 1.0000 - val_loss: 6.6277e-05 - val_cosine_similarity: 1.0000\n",
      "Epoch 43/90\n",
      "250/250 [==============================] - 9s 36ms/step - loss: 1.2462e-04 - cosine_similarity: 1.0000 - val_loss: 4.6873e-05 - val_cosine_similarity: 1.0000\n",
      "Epoch 44/90\n",
      "250/250 [==============================] - 9s 36ms/step - loss: 7.9119e-05 - cosine_similarity: 1.0000 - val_loss: 8.3416e-05 - val_cosine_similarity: 1.0000\n",
      "Epoch 45/90\n",
      "250/250 [==============================] - 9s 37ms/step - loss: 1.0934e-04 - cosine_similarity: 1.0000 - val_loss: 1.3664e-04 - val_cosine_similarity: 1.0000\n",
      "Epoch 46/90\n",
      "250/250 [==============================] - 9s 38ms/step - loss: 8.9642e-05 - cosine_similarity: 1.0000 - val_loss: 1.2963e-04 - val_cosine_similarity: 1.0000\n",
      "Epoch 47/90\n",
      "250/250 [==============================] - 9s 38ms/step - loss: 7.7925e-05 - cosine_similarity: 1.0000 - val_loss: 4.5160e-05 - val_cosine_similarity: 1.0000\n",
      "Epoch 48/90\n",
      "117/250 [=============>................] - ETA: 4s - loss: 8.0801e-05 - cosine_similarity: 1.0000"
     ]
    },
    {
     "ename": "KeyboardInterrupt",
     "evalue": "",
     "output_type": "error",
     "traceback": [
      "\u001b[0;31m---------------------------------------------------------------------------\u001b[0m",
      "\u001b[0;31mKeyboardInterrupt\u001b[0m                         Traceback (most recent call last)",
      "Input \u001b[0;32mIn [23]\u001b[0m, in \u001b[0;36m<cell line: 1>\u001b[0;34m()\u001b[0m\n\u001b[0;32m----> 1\u001b[0m history \u001b[38;5;241m=\u001b[39m \u001b[43mmodel\u001b[49m\u001b[38;5;241;43m.\u001b[39;49m\u001b[43mfit\u001b[49m\u001b[43m(\u001b[49m\u001b[43mx_train\u001b[49m\u001b[43m,\u001b[49m\u001b[43m \u001b[49m\u001b[43my_train\u001b[49m\u001b[43m,\u001b[49m\u001b[43m \u001b[49m\u001b[43mvalidation_split\u001b[49m\u001b[38;5;241;43m=\u001b[39;49m\u001b[38;5;241;43m0.2\u001b[39;49m\u001b[43m,\u001b[49m\u001b[43m \u001b[49m\u001b[43mbatch_size\u001b[49m\u001b[38;5;241;43m=\u001b[39;49m\u001b[38;5;241;43m50\u001b[39;49m\u001b[43m,\u001b[49m\u001b[43m \u001b[49m\u001b[43mepochs\u001b[49m\u001b[38;5;241;43m=\u001b[39;49m\u001b[38;5;241;43m90\u001b[39;49m\u001b[43m)\u001b[49m\n",
      "File \u001b[0;32m~/miniforge3/envs/pixplot/lib/python3.9/site-packages/keras/utils/traceback_utils.py:64\u001b[0m, in \u001b[0;36mfilter_traceback.<locals>.error_handler\u001b[0;34m(*args, **kwargs)\u001b[0m\n\u001b[1;32m     62\u001b[0m filtered_tb \u001b[38;5;241m=\u001b[39m \u001b[38;5;28;01mNone\u001b[39;00m\n\u001b[1;32m     63\u001b[0m \u001b[38;5;28;01mtry\u001b[39;00m:\n\u001b[0;32m---> 64\u001b[0m   \u001b[38;5;28;01mreturn\u001b[39;00m \u001b[43mfn\u001b[49m\u001b[43m(\u001b[49m\u001b[38;5;241;43m*\u001b[39;49m\u001b[43margs\u001b[49m\u001b[43m,\u001b[49m\u001b[43m \u001b[49m\u001b[38;5;241;43m*\u001b[39;49m\u001b[38;5;241;43m*\u001b[39;49m\u001b[43mkwargs\u001b[49m\u001b[43m)\u001b[49m\n\u001b[1;32m     65\u001b[0m \u001b[38;5;28;01mexcept\u001b[39;00m \u001b[38;5;167;01mException\u001b[39;00m \u001b[38;5;28;01mas\u001b[39;00m e:  \u001b[38;5;66;03m# pylint: disable=broad-except\u001b[39;00m\n\u001b[1;32m     66\u001b[0m   filtered_tb \u001b[38;5;241m=\u001b[39m _process_traceback_frames(e\u001b[38;5;241m.\u001b[39m__traceback__)\n",
      "File \u001b[0;32m~/miniforge3/envs/pixplot/lib/python3.9/site-packages/keras/engine/training.py:1384\u001b[0m, in \u001b[0;36mModel.fit\u001b[0;34m(self, x, y, batch_size, epochs, verbose, callbacks, validation_split, validation_data, shuffle, class_weight, sample_weight, initial_epoch, steps_per_epoch, validation_steps, validation_batch_size, validation_freq, max_queue_size, workers, use_multiprocessing)\u001b[0m\n\u001b[1;32m   1377\u001b[0m \u001b[38;5;28;01mwith\u001b[39;00m tf\u001b[38;5;241m.\u001b[39mprofiler\u001b[38;5;241m.\u001b[39mexperimental\u001b[38;5;241m.\u001b[39mTrace(\n\u001b[1;32m   1378\u001b[0m     \u001b[38;5;124m'\u001b[39m\u001b[38;5;124mtrain\u001b[39m\u001b[38;5;124m'\u001b[39m,\n\u001b[1;32m   1379\u001b[0m     epoch_num\u001b[38;5;241m=\u001b[39mepoch,\n\u001b[1;32m   1380\u001b[0m     step_num\u001b[38;5;241m=\u001b[39mstep,\n\u001b[1;32m   1381\u001b[0m     batch_size\u001b[38;5;241m=\u001b[39mbatch_size,\n\u001b[1;32m   1382\u001b[0m     _r\u001b[38;5;241m=\u001b[39m\u001b[38;5;241m1\u001b[39m):\n\u001b[1;32m   1383\u001b[0m   callbacks\u001b[38;5;241m.\u001b[39mon_train_batch_begin(step)\n\u001b[0;32m-> 1384\u001b[0m   tmp_logs \u001b[38;5;241m=\u001b[39m \u001b[38;5;28;43mself\u001b[39;49m\u001b[38;5;241;43m.\u001b[39;49m\u001b[43mtrain_function\u001b[49m\u001b[43m(\u001b[49m\u001b[43miterator\u001b[49m\u001b[43m)\u001b[49m\n\u001b[1;32m   1385\u001b[0m   \u001b[38;5;28;01mif\u001b[39;00m data_handler\u001b[38;5;241m.\u001b[39mshould_sync:\n\u001b[1;32m   1386\u001b[0m     context\u001b[38;5;241m.\u001b[39masync_wait()\n",
      "File \u001b[0;32m~/miniforge3/envs/pixplot/lib/python3.9/site-packages/tensorflow/python/util/traceback_utils.py:150\u001b[0m, in \u001b[0;36mfilter_traceback.<locals>.error_handler\u001b[0;34m(*args, **kwargs)\u001b[0m\n\u001b[1;32m    148\u001b[0m filtered_tb \u001b[38;5;241m=\u001b[39m \u001b[38;5;28;01mNone\u001b[39;00m\n\u001b[1;32m    149\u001b[0m \u001b[38;5;28;01mtry\u001b[39;00m:\n\u001b[0;32m--> 150\u001b[0m   \u001b[38;5;28;01mreturn\u001b[39;00m \u001b[43mfn\u001b[49m\u001b[43m(\u001b[49m\u001b[38;5;241;43m*\u001b[39;49m\u001b[43margs\u001b[49m\u001b[43m,\u001b[49m\u001b[43m \u001b[49m\u001b[38;5;241;43m*\u001b[39;49m\u001b[38;5;241;43m*\u001b[39;49m\u001b[43mkwargs\u001b[49m\u001b[43m)\u001b[49m\n\u001b[1;32m    151\u001b[0m \u001b[38;5;28;01mexcept\u001b[39;00m \u001b[38;5;167;01mException\u001b[39;00m \u001b[38;5;28;01mas\u001b[39;00m e:\n\u001b[1;32m    152\u001b[0m   filtered_tb \u001b[38;5;241m=\u001b[39m _process_traceback_frames(e\u001b[38;5;241m.\u001b[39m__traceback__)\n",
      "File \u001b[0;32m~/miniforge3/envs/pixplot/lib/python3.9/site-packages/tensorflow/python/eager/def_function.py:915\u001b[0m, in \u001b[0;36mFunction.__call__\u001b[0;34m(self, *args, **kwds)\u001b[0m\n\u001b[1;32m    912\u001b[0m compiler \u001b[38;5;241m=\u001b[39m \u001b[38;5;124m\"\u001b[39m\u001b[38;5;124mxla\u001b[39m\u001b[38;5;124m\"\u001b[39m \u001b[38;5;28;01mif\u001b[39;00m \u001b[38;5;28mself\u001b[39m\u001b[38;5;241m.\u001b[39m_jit_compile \u001b[38;5;28;01melse\u001b[39;00m \u001b[38;5;124m\"\u001b[39m\u001b[38;5;124mnonXla\u001b[39m\u001b[38;5;124m\"\u001b[39m\n\u001b[1;32m    914\u001b[0m \u001b[38;5;28;01mwith\u001b[39;00m OptionalXlaContext(\u001b[38;5;28mself\u001b[39m\u001b[38;5;241m.\u001b[39m_jit_compile):\n\u001b[0;32m--> 915\u001b[0m   result \u001b[38;5;241m=\u001b[39m \u001b[38;5;28;43mself\u001b[39;49m\u001b[38;5;241;43m.\u001b[39;49m\u001b[43m_call\u001b[49m\u001b[43m(\u001b[49m\u001b[38;5;241;43m*\u001b[39;49m\u001b[43margs\u001b[49m\u001b[43m,\u001b[49m\u001b[43m \u001b[49m\u001b[38;5;241;43m*\u001b[39;49m\u001b[38;5;241;43m*\u001b[39;49m\u001b[43mkwds\u001b[49m\u001b[43m)\u001b[49m\n\u001b[1;32m    917\u001b[0m new_tracing_count \u001b[38;5;241m=\u001b[39m \u001b[38;5;28mself\u001b[39m\u001b[38;5;241m.\u001b[39mexperimental_get_tracing_count()\n\u001b[1;32m    918\u001b[0m without_tracing \u001b[38;5;241m=\u001b[39m (tracing_count \u001b[38;5;241m==\u001b[39m new_tracing_count)\n",
      "File \u001b[0;32m~/miniforge3/envs/pixplot/lib/python3.9/site-packages/tensorflow/python/eager/def_function.py:947\u001b[0m, in \u001b[0;36mFunction._call\u001b[0;34m(self, *args, **kwds)\u001b[0m\n\u001b[1;32m    944\u001b[0m   \u001b[38;5;28mself\u001b[39m\u001b[38;5;241m.\u001b[39m_lock\u001b[38;5;241m.\u001b[39mrelease()\n\u001b[1;32m    945\u001b[0m   \u001b[38;5;66;03m# In this case we have created variables on the first call, so we run the\u001b[39;00m\n\u001b[1;32m    946\u001b[0m   \u001b[38;5;66;03m# defunned version which is guaranteed to never create variables.\u001b[39;00m\n\u001b[0;32m--> 947\u001b[0m   \u001b[38;5;28;01mreturn\u001b[39;00m \u001b[38;5;28;43mself\u001b[39;49m\u001b[38;5;241;43m.\u001b[39;49m\u001b[43m_stateless_fn\u001b[49m\u001b[43m(\u001b[49m\u001b[38;5;241;43m*\u001b[39;49m\u001b[43margs\u001b[49m\u001b[43m,\u001b[49m\u001b[43m \u001b[49m\u001b[38;5;241;43m*\u001b[39;49m\u001b[38;5;241;43m*\u001b[39;49m\u001b[43mkwds\u001b[49m\u001b[43m)\u001b[49m  \u001b[38;5;66;03m# pylint: disable=not-callable\u001b[39;00m\n\u001b[1;32m    948\u001b[0m \u001b[38;5;28;01melif\u001b[39;00m \u001b[38;5;28mself\u001b[39m\u001b[38;5;241m.\u001b[39m_stateful_fn \u001b[38;5;129;01mis\u001b[39;00m \u001b[38;5;129;01mnot\u001b[39;00m \u001b[38;5;28;01mNone\u001b[39;00m:\n\u001b[1;32m    949\u001b[0m   \u001b[38;5;66;03m# Release the lock early so that multiple threads can perform the call\u001b[39;00m\n\u001b[1;32m    950\u001b[0m   \u001b[38;5;66;03m# in parallel.\u001b[39;00m\n\u001b[1;32m    951\u001b[0m   \u001b[38;5;28mself\u001b[39m\u001b[38;5;241m.\u001b[39m_lock\u001b[38;5;241m.\u001b[39mrelease()\n",
      "File \u001b[0;32m~/miniforge3/envs/pixplot/lib/python3.9/site-packages/tensorflow/python/eager/function.py:2956\u001b[0m, in \u001b[0;36mFunction.__call__\u001b[0;34m(self, *args, **kwargs)\u001b[0m\n\u001b[1;32m   2953\u001b[0m \u001b[38;5;28;01mwith\u001b[39;00m \u001b[38;5;28mself\u001b[39m\u001b[38;5;241m.\u001b[39m_lock:\n\u001b[1;32m   2954\u001b[0m   (graph_function,\n\u001b[1;32m   2955\u001b[0m    filtered_flat_args) \u001b[38;5;241m=\u001b[39m \u001b[38;5;28mself\u001b[39m\u001b[38;5;241m.\u001b[39m_maybe_define_function(args, kwargs)\n\u001b[0;32m-> 2956\u001b[0m \u001b[38;5;28;01mreturn\u001b[39;00m \u001b[43mgraph_function\u001b[49m\u001b[38;5;241;43m.\u001b[39;49m\u001b[43m_call_flat\u001b[49m\u001b[43m(\u001b[49m\n\u001b[1;32m   2957\u001b[0m \u001b[43m    \u001b[49m\u001b[43mfiltered_flat_args\u001b[49m\u001b[43m,\u001b[49m\u001b[43m \u001b[49m\u001b[43mcaptured_inputs\u001b[49m\u001b[38;5;241;43m=\u001b[39;49m\u001b[43mgraph_function\u001b[49m\u001b[38;5;241;43m.\u001b[39;49m\u001b[43mcaptured_inputs\u001b[49m\u001b[43m)\u001b[49m\n",
      "File \u001b[0;32m~/miniforge3/envs/pixplot/lib/python3.9/site-packages/tensorflow/python/eager/function.py:1853\u001b[0m, in \u001b[0;36mConcreteFunction._call_flat\u001b[0;34m(self, args, captured_inputs, cancellation_manager)\u001b[0m\n\u001b[1;32m   1849\u001b[0m possible_gradient_type \u001b[38;5;241m=\u001b[39m gradients_util\u001b[38;5;241m.\u001b[39mPossibleTapeGradientTypes(args)\n\u001b[1;32m   1850\u001b[0m \u001b[38;5;28;01mif\u001b[39;00m (possible_gradient_type \u001b[38;5;241m==\u001b[39m gradients_util\u001b[38;5;241m.\u001b[39mPOSSIBLE_GRADIENT_TYPES_NONE\n\u001b[1;32m   1851\u001b[0m     \u001b[38;5;129;01mand\u001b[39;00m executing_eagerly):\n\u001b[1;32m   1852\u001b[0m   \u001b[38;5;66;03m# No tape is watching; skip to running the function.\u001b[39;00m\n\u001b[0;32m-> 1853\u001b[0m   \u001b[38;5;28;01mreturn\u001b[39;00m \u001b[38;5;28mself\u001b[39m\u001b[38;5;241m.\u001b[39m_build_call_outputs(\u001b[38;5;28;43mself\u001b[39;49m\u001b[38;5;241;43m.\u001b[39;49m\u001b[43m_inference_function\u001b[49m\u001b[38;5;241;43m.\u001b[39;49m\u001b[43mcall\u001b[49m\u001b[43m(\u001b[49m\n\u001b[1;32m   1854\u001b[0m \u001b[43m      \u001b[49m\u001b[43mctx\u001b[49m\u001b[43m,\u001b[49m\u001b[43m \u001b[49m\u001b[43margs\u001b[49m\u001b[43m,\u001b[49m\u001b[43m \u001b[49m\u001b[43mcancellation_manager\u001b[49m\u001b[38;5;241;43m=\u001b[39;49m\u001b[43mcancellation_manager\u001b[49m\u001b[43m)\u001b[49m)\n\u001b[1;32m   1855\u001b[0m forward_backward \u001b[38;5;241m=\u001b[39m \u001b[38;5;28mself\u001b[39m\u001b[38;5;241m.\u001b[39m_select_forward_and_backward_functions(\n\u001b[1;32m   1856\u001b[0m     args,\n\u001b[1;32m   1857\u001b[0m     possible_gradient_type,\n\u001b[1;32m   1858\u001b[0m     executing_eagerly)\n\u001b[1;32m   1859\u001b[0m forward_function, args_with_tangents \u001b[38;5;241m=\u001b[39m forward_backward\u001b[38;5;241m.\u001b[39mforward()\n",
      "File \u001b[0;32m~/miniforge3/envs/pixplot/lib/python3.9/site-packages/tensorflow/python/eager/function.py:499\u001b[0m, in \u001b[0;36m_EagerDefinedFunction.call\u001b[0;34m(self, ctx, args, cancellation_manager)\u001b[0m\n\u001b[1;32m    497\u001b[0m \u001b[38;5;28;01mwith\u001b[39;00m _InterpolateFunctionError(\u001b[38;5;28mself\u001b[39m):\n\u001b[1;32m    498\u001b[0m   \u001b[38;5;28;01mif\u001b[39;00m cancellation_manager \u001b[38;5;129;01mis\u001b[39;00m \u001b[38;5;28;01mNone\u001b[39;00m:\n\u001b[0;32m--> 499\u001b[0m     outputs \u001b[38;5;241m=\u001b[39m \u001b[43mexecute\u001b[49m\u001b[38;5;241;43m.\u001b[39;49m\u001b[43mexecute\u001b[49m\u001b[43m(\u001b[49m\n\u001b[1;32m    500\u001b[0m \u001b[43m        \u001b[49m\u001b[38;5;28;43mstr\u001b[39;49m\u001b[43m(\u001b[49m\u001b[38;5;28;43mself\u001b[39;49m\u001b[38;5;241;43m.\u001b[39;49m\u001b[43msignature\u001b[49m\u001b[38;5;241;43m.\u001b[39;49m\u001b[43mname\u001b[49m\u001b[43m)\u001b[49m\u001b[43m,\u001b[49m\n\u001b[1;32m    501\u001b[0m \u001b[43m        \u001b[49m\u001b[43mnum_outputs\u001b[49m\u001b[38;5;241;43m=\u001b[39;49m\u001b[38;5;28;43mself\u001b[39;49m\u001b[38;5;241;43m.\u001b[39;49m\u001b[43m_num_outputs\u001b[49m\u001b[43m,\u001b[49m\n\u001b[1;32m    502\u001b[0m \u001b[43m        \u001b[49m\u001b[43minputs\u001b[49m\u001b[38;5;241;43m=\u001b[39;49m\u001b[43margs\u001b[49m\u001b[43m,\u001b[49m\n\u001b[1;32m    503\u001b[0m \u001b[43m        \u001b[49m\u001b[43mattrs\u001b[49m\u001b[38;5;241;43m=\u001b[39;49m\u001b[43mattrs\u001b[49m\u001b[43m,\u001b[49m\n\u001b[1;32m    504\u001b[0m \u001b[43m        \u001b[49m\u001b[43mctx\u001b[49m\u001b[38;5;241;43m=\u001b[39;49m\u001b[43mctx\u001b[49m\u001b[43m)\u001b[49m\n\u001b[1;32m    505\u001b[0m   \u001b[38;5;28;01melse\u001b[39;00m:\n\u001b[1;32m    506\u001b[0m     outputs \u001b[38;5;241m=\u001b[39m execute\u001b[38;5;241m.\u001b[39mexecute_with_cancellation(\n\u001b[1;32m    507\u001b[0m         \u001b[38;5;28mstr\u001b[39m(\u001b[38;5;28mself\u001b[39m\u001b[38;5;241m.\u001b[39msignature\u001b[38;5;241m.\u001b[39mname),\n\u001b[1;32m    508\u001b[0m         num_outputs\u001b[38;5;241m=\u001b[39m\u001b[38;5;28mself\u001b[39m\u001b[38;5;241m.\u001b[39m_num_outputs,\n\u001b[0;32m   (...)\u001b[0m\n\u001b[1;32m    511\u001b[0m         ctx\u001b[38;5;241m=\u001b[39mctx,\n\u001b[1;32m    512\u001b[0m         cancellation_manager\u001b[38;5;241m=\u001b[39mcancellation_manager)\n",
      "File \u001b[0;32m~/miniforge3/envs/pixplot/lib/python3.9/site-packages/tensorflow/python/eager/execute.py:54\u001b[0m, in \u001b[0;36mquick_execute\u001b[0;34m(op_name, num_outputs, inputs, attrs, ctx, name)\u001b[0m\n\u001b[1;32m     52\u001b[0m \u001b[38;5;28;01mtry\u001b[39;00m:\n\u001b[1;32m     53\u001b[0m   ctx\u001b[38;5;241m.\u001b[39mensure_initialized()\n\u001b[0;32m---> 54\u001b[0m   tensors \u001b[38;5;241m=\u001b[39m \u001b[43mpywrap_tfe\u001b[49m\u001b[38;5;241;43m.\u001b[39;49m\u001b[43mTFE_Py_Execute\u001b[49m\u001b[43m(\u001b[49m\u001b[43mctx\u001b[49m\u001b[38;5;241;43m.\u001b[39;49m\u001b[43m_handle\u001b[49m\u001b[43m,\u001b[49m\u001b[43m \u001b[49m\u001b[43mdevice_name\u001b[49m\u001b[43m,\u001b[49m\u001b[43m \u001b[49m\u001b[43mop_name\u001b[49m\u001b[43m,\u001b[49m\n\u001b[1;32m     55\u001b[0m \u001b[43m                                      \u001b[49m\u001b[43minputs\u001b[49m\u001b[43m,\u001b[49m\u001b[43m \u001b[49m\u001b[43mattrs\u001b[49m\u001b[43m,\u001b[49m\u001b[43m \u001b[49m\u001b[43mnum_outputs\u001b[49m\u001b[43m)\u001b[49m\n\u001b[1;32m     56\u001b[0m \u001b[38;5;28;01mexcept\u001b[39;00m core\u001b[38;5;241m.\u001b[39m_NotOkStatusException \u001b[38;5;28;01mas\u001b[39;00m e:\n\u001b[1;32m     57\u001b[0m   \u001b[38;5;28;01mif\u001b[39;00m name \u001b[38;5;129;01mis\u001b[39;00m \u001b[38;5;129;01mnot\u001b[39;00m \u001b[38;5;28;01mNone\u001b[39;00m:\n",
      "\u001b[0;31mKeyboardInterrupt\u001b[0m: "
     ]
    }
   ],
   "source": [
    "history = model.fit(x_train, y_train, validation_split=0.2, batch_size=50, epochs=90)"
   ]
  },
  {
   "cell_type": "code",
   "execution_count": null,
   "id": "835c4dcf-643d-41f0-9eb8-2625905e65ad",
   "metadata": {
    "tags": []
   },
   "outputs": [],
   "source": [
    "score = model.evaluate(x_test, y_test)\n",
    "score"
   ]
  },
  {
   "cell_type": "code",
   "execution_count": null,
   "id": "d88ea344-8abc-4aca-aaea-7f03e730022e",
   "metadata": {},
   "outputs": [],
   "source": [
    "print(history.history.keys())"
   ]
  },
  {
   "cell_type": "code",
   "execution_count": null,
   "id": "926c2396-c372-457d-9834-b471ec268d87",
   "metadata": {
    "tags": []
   },
   "outputs": [],
   "source": [
    "loss = history.history['loss']\n",
    "# val_loss = history.history['val_loss']\n",
    "epochs = range(1, len(loss)+1)\n",
    "plt.title('Loss')\n",
    "plt.xlabel('epoch')\n",
    "plt.yscale('log')\n",
    "plt.ylabel('loss')\n",
    "plt.plot(epochs, loss, 'black', label='training loss')\n",
    "# plt.plot(epochs, val_loss, 'red', label='validation loss')\n",
    "plt.show()"
   ]
  },
  {
   "cell_type": "code",
   "execution_count": null,
   "id": "ded37a7e-46c2-4492-bac3-73b9ae46fa6c",
   "metadata": {},
   "outputs": [],
   "source": [
    "cos = history.history['cosine_similarity']\n",
    "# val_acc = history.history['val_accuracy']\n",
    "epochs = range(1, len(cos)+1)\n",
    "plt.plot(epochs, cos, 'yellow', label='Training cos')\n",
    "# plt.plot(epochs, val_acc, 'green', label='validation acc')\n",
    "plt.xlabel('Epochs')\n",
    "plt.ylabel('Cos')\n",
    "plt.legend()\n",
    "plt.show()"
   ]
  },
  {
   "cell_type": "code",
   "execution_count": null,
   "id": "2863aa0f-5400-463c-b2d2-3659fa814afb",
   "metadata": {
    "tags": []
   },
   "outputs": [],
   "source": [
    "output = model.predict(testInput)\n",
    "output"
   ]
  },
  {
   "cell_type": "code",
   "execution_count": 231,
   "id": "13fbe98a-4f89-4204-abd5-9fd14e4d0a4a",
   "metadata": {},
   "outputs": [
    {
     "data": {
      "text/plain": [
       "0.7775407433509827"
      ]
     },
     "execution_count": 231,
     "metadata": {},
     "output_type": "execute_result"
    }
   ],
   "source": [
    "np.min(val_acc)"
   ]
  },
  {
   "cell_type": "code",
   "execution_count": 232,
   "id": "2f53dbc1-fe41-4a1c-923e-603f951b6ce9",
   "metadata": {},
   "outputs": [
    {
     "data": {
      "text/plain": [
       "26"
      ]
     },
     "execution_count": 232,
     "metadata": {},
     "output_type": "execute_result"
    }
   ],
   "source": [
    "np.argmin(val_acc)"
   ]
  },
  {
   "cell_type": "code",
   "execution_count": null,
   "id": "5f6e0ba9-b78c-4d07-8180-a0940847f2b5",
   "metadata": {},
   "outputs": [],
   "source": []
  }
 ],
 "metadata": {
  "kernelspec": {
   "display_name": "venv",
   "language": "python",
   "name": "venv"
  },
  "language_info": {
   "codemirror_mode": {
    "name": "ipython",
    "version": 3
   },
   "file_extension": ".py",
   "mimetype": "text/x-python",
   "name": "python",
   "nbconvert_exporter": "python",
   "pygments_lexer": "ipython3",
   "version": "3.9.13"
  }
 },
 "nbformat": 4,
 "nbformat_minor": 5
}
